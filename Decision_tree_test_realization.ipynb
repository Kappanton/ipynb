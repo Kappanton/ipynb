{
  "nbformat": 4,
  "nbformat_minor": 0,
  "metadata": {
    "colab": {
      "name": "Decision_tree_test_realization.ipynb",
      "provenance": [],
      "collapsed_sections": []
    },
    "kernelspec": {
      "name": "python3",
      "display_name": "Python 3"
    }
  },
  "cells": [
    {
      "cell_type": "code",
      "metadata": {
        "id": "0yJzadXDtWBZ",
        "colab_type": "code",
        "colab": {}
      },
      "source": [
        "\n",
        "class decision_tree:\n",
        "  def __init__(self, train, test, max_depth, min_size):\n",
        "    self.train = train\n",
        "    self.test = test\n",
        "    self.max_depth = max_depth\n",
        "    self.min_size = min_size\n",
        "\n",
        "  def fit(train, max_depth, min_size):\n",
        "    root = get_split(train)\n",
        "    _split(root, max_depth, min_size, 1)\n",
        "    return root\n",
        "  \n",
        "  def predict(node, row):\n",
        "    if (row[node['index']] < node['value']):\n",
        "      if (isinstance(node['left'], dict)): return predict(node['left'], row)\n",
        "      else: return node['left']\n",
        "    else:\n",
        "      if (isinstance(node['right'], dict)): return predict(node['right'], row)\n",
        "      else: return node['right']\n",
        "\n",
        "  def test_split(index, value, dataset):\n",
        "    left, right = list(), list()\n",
        "    \n",
        "    for row in dataset:\n",
        "      if (row[index] < value):\n",
        "        left.append(row)\n",
        "      else:\n",
        "        right.append(row)\n",
        "    \n",
        "    return left, right\n",
        "  \n",
        "  def get_Gini(gr, cl):\n",
        "    n_instances = float(sum([len(group) for group in gr]))\n",
        "    gini_sum = 0.\n",
        "    \n",
        "    for group in gr:\n",
        "      size = float(len(group))\n",
        "      if (size == 0): continue\n",
        "\n",
        "    score = 0.\n",
        "      \n",
        "    for class_val in cl:\n",
        "      p = [row[-1] for row in group].count(class_val) / size\n",
        "      score += p * p\n",
        "      gini_sum += (1.0 - score) * (size / n_instances)\n",
        "\n",
        "    return gini_sum\n",
        "  \n",
        "  def get_split(dataset):\n",
        "    class_values = list(set(row[-1] for row in dataset))\n",
        "    b_index, b_value, b_score = 99999999, 99999999, 99999999\n",
        "\n",
        "    for index in range(len(dataset[0])-1):\n",
        "      for row in dataset:\n",
        "        gr = test_split(index, row[index], dataset)\n",
        "        gini_sum = get_Gini(gr, class_values)\n",
        "        if (gini_sum < b_score):\n",
        "          b_index, b_value, b_score, b_gr = index, row[index], gini_sum, gr\n",
        "    \n",
        "    return {'index':b_index, 'value':b_value, 'group':b_gr}\n",
        "  \n",
        "  def _terminate(group):\n",
        "    outcomes = [row[-1] for row in group]\n",
        "    return max(set(outcomes), key=outcomes.count)\n",
        "  \n",
        "  def _split(node, max_depth, min_size, depth):\n",
        "    left, right = node['group']\n",
        "    del(node['group'])\n",
        "  \n",
        "    if (not left or not right):\n",
        "      node['left'] = node['right'] = _terminate(left + right)\n",
        "      return\n",
        "    if (depth >= max_depth):\n",
        "      node['left'], node['right'] = _terminate(left), _terminate(right)\n",
        "      return\n",
        "    if (len(left) <= min_size):\n",
        "      node['left'] = _terminate(left)\n",
        "    else:\n",
        "      node['left'] = get_split(left)\n",
        "      _split(node['left'], max_depth, min_size, depth+1)\n",
        "    if (len(right) <= min_size):\n",
        "      node['right'] = _terminate(right)\n",
        "    else:\n",
        "      node['right'] = get_split(right)\n",
        "      _split(node['right'], max_depth, min_size, depth+1)\n",
        "    \n",
        "\n",
        "\n"
      ],
      "execution_count": null,
      "outputs": []
    },
    {
      "cell_type": "code",
      "metadata": {
        "id": "aVrDwjXGwT0E",
        "colab_type": "code",
        "colab": {}
      },
      "source": [
        "x = [1, 2, 3]\n",
        "y = [2, 3, 5]\n",
        "mx = 10\n",
        "mn = 3"
      ],
      "execution_count": null,
      "outputs": []
    },
    {
      "cell_type": "code",
      "metadata": {
        "id": "bhZBtXNwwGlQ",
        "colab_type": "code",
        "colab": {}
      },
      "source": [
        "tree = decision_tree(x,y,mx,mn)"
      ],
      "execution_count": null,
      "outputs": []
    },
    {
      "cell_type": "code",
      "metadata": {
        "id": "d56wGg9F50iL",
        "colab_type": "code",
        "colab": {}
      },
      "source": [
        "tree.fit()"
      ],
      "execution_count": null,
      "outputs": []
    },
    {
      "cell_type": "code",
      "metadata": {
        "id": "9Vy3MOXA54XR",
        "colab_type": "code",
        "colab": {}
      },
      "source": [
        ""
      ],
      "execution_count": null,
      "outputs": []
    }
  ]
}