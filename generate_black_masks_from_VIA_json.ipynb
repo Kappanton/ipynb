{
  "nbformat": 4,
  "nbformat_minor": 0,
  "metadata": {
    "colab": {
      "name": "generate_black_masks_from_VIA_json.ipynb",
      "provenance": [],
      "collapsed_sections": []
    },
    "kernelspec": {
      "name": "python3",
      "display_name": "Python 3"
    },
    "accelerator": "GPU"
  },
  "cells": [
    {
      "cell_type": "code",
      "metadata": {
        "id": "qmEyzQRl1dPT",
        "colab_type": "code",
        "colab": {
          "base_uri": "https://localhost:8080/",
          "height": 34
        },
        "outputId": "4513f4d7-7f6b-4e60-b1f7-4a24c83af93a"
      },
      "source": [
        "from google.colab import drive\n",
        "drive.mount('/content/drive')"
      ],
      "execution_count": null,
      "outputs": [
        {
          "output_type": "stream",
          "text": [
            "Drive already mounted at /content/drive; to attempt to forcibly remount, call drive.mount(\"/content/drive\", force_remount=True).\n"
          ],
          "name": "stdout"
        }
      ]
    },
    {
      "cell_type": "code",
      "metadata": {
        "id": "NaQKIUNgbId2",
        "colab_type": "code",
        "colab": {}
      },
      "source": [
        "import json\n",
        "import os\n",
        "import numpy as np\n",
        "import shutil\n",
        "import zipfile\n",
        "from skimage import io, draw"
      ],
      "execution_count": null,
      "outputs": []
    },
    {
      "cell_type": "code",
      "metadata": {
        "id": "tthBwizsa5lc",
        "colab_type": "code",
        "colab": {}
      },
      "source": [
        "# paths\n",
        "train_json = 'insta_100_items.json'\n",
        "dataset_dir = 'dataset'\n",
        "images_dir = 'images'\n",
        "masks_dir = 'masks'"
      ],
      "execution_count": null,
      "outputs": []
    },
    {
      "cell_type": "code",
      "metadata": {
        "id": "WPxbzh72wvO2",
        "colab_type": "code",
        "colab": {}
      },
      "source": [
        "# create paths\n",
        "if not os.path.exists(masks_dir):\n",
        "  os.mkdir(masks_dir)\n",
        "if not os.path.exists(images_dir):\n",
        "  os.mkdir(images_dir)\n",
        "if not os.path.exists(dataset_dir):\n",
        "  os.mkdir(dataset_dir)"
      ],
      "execution_count": null,
      "outputs": []
    },
    {
      "cell_type": "code",
      "metadata": {
        "id": "sgfYossqaJgI",
        "colab_type": "code",
        "colab": {
          "base_uri": "https://localhost:8080/",
          "height": 85
        },
        "outputId": "5b66e64c-a559-401c-9c9c-a7dfb4c2d7d6"
      },
      "source": [
        "# delete the dict keys\n",
        "annotations = list(json.load(open(train_json)).values())  \n",
        "# skip unannotated images.\n",
        "annotations = [a for a in annotations if a['regions']]\n",
        "\n",
        "# create masks\n",
        "for a in annotations:\n",
        "    polygons = [r['shape_attributes'] for r in a['regions']]\n",
        "    image_path = os.path.join(images_dir, a['filename'])\n",
        "    image = io.imread(image_path)\n",
        "    height, width = image.shape[:2]\n",
        "    mask = np.zeros([height, width],dtype=np.uint8)\n",
        "    for p in polygons:\n",
        "        if p['name'] == 'polygon':\n",
        "          rr, cc = draw.polygon(p['all_points_y'], p['all_points_x'])\n",
        "        elif p['name'] == 'circle':\n",
        "          rr, cc = draw.circle(p['cx'], p['cy'], p['r'])\n",
        "        print(mask.shape, image_path)\n",
        "        for i, j in zip(rr, cc):\n",
        "          if i >= 0 and j >= 0 and i < mask.shape[0] and j < mask.shape[1]:\n",
        "            mask[i, j] = 1\n",
        "    mask = mask.astype(float)\n",
        "    io.imsave(os.path.join(masks_dir, a['filename']), mask)"
      ],
      "execution_count": null,
      "outputs": [
        {
          "output_type": "stream",
          "text": [
            "WARNING:root:Lossy conversion from float64 to uint8. Range [0, 1]. Convert image to uint8 prior to saving to suppress this warning.\n"
          ],
          "name": "stderr"
        },
        {
          "output_type": "stream",
          "text": [
            "(612, 612) images/2013-09-29 09.46.39 555409553222055833_lookingthroughwindow.jpg\n",
            "(612, 612) images/2013-09-29 09.46.39 555409553222055833_lookingthroughwindow.jpg\n",
            "(612, 612) images/2013-09-29 09.46.39 555409553222055833_lookingthroughwindow.jpg\n"
          ],
          "name": "stdout"
        }
      ]
    },
    {
      "cell_type": "code",
      "metadata": {
        "id": "cbb76AE1fA1m",
        "colab_type": "code",
        "colab": {
          "base_uri": "https://localhost:8080/",
          "height": 34
        },
        "outputId": "aabe29ab-0c91-4648-c216-a0719a4c348b"
      },
      "source": [
        "# form the dataset folder\n",
        "shutil.move(images_dir, dataset_dir)\n",
        "shutil.move(masks_dir, dataset_dir)\n",
        "shutil.move(dataset_dir, '/')"
      ],
      "execution_count": null,
      "outputs": [
        {
          "output_type": "execute_result",
          "data": {
            "text/plain": [
              "'dataset/masks'"
            ]
          },
          "metadata": {
            "tags": []
          },
          "execution_count": 17
        }
      ]
    },
    {
      "cell_type": "code",
      "metadata": {
        "id": "KsdcmSI3gbOn",
        "colab_type": "code",
        "colab": {
          "base_uri": "https://localhost:8080/",
          "height": 102
        },
        "outputId": "0e6e109c-a68b-4792-8c8a-378cfde1a679"
      },
      "source": [
        "# change folder name!\n",
        "!zip -r dataset.zip /dataset"
      ],
      "execution_count": null,
      "outputs": [
        {
          "output_type": "stream",
          "text": [
            "updating: dataset/ (stored 0%)\n",
            "  adding: dataset/images/ (stored 0%)\n",
            "  adding: dataset/images/2013-09-29 09.46.39 555409553222055833_lookingthroughwindow.jpg (deflated 1%)\n",
            "  adding: dataset/masks/ (stored 0%)\n",
            "  adding: dataset/masks/2013-09-29 09.46.39 555409553222055833_lookingthroughwindow.jpg (deflated 55%)\n"
          ],
          "name": "stdout"
        }
      ]
    },
    {
      "cell_type": "code",
      "metadata": {
        "id": "3xbFjXaszZ5F",
        "colab_type": "code",
        "colab": {
          "base_uri": "https://localhost:8080/",
          "height": 34
        },
        "outputId": "5eff9489-2cd3-4d13-f422-25a4054ba4d4"
      },
      "source": [
        "# move to gdrive\n",
        "shutil.move('dataset.zip', '/content/drive/My Drive/window_view/datasets')"
      ],
      "execution_count": null,
      "outputs": [
        {
          "output_type": "execute_result",
          "data": {
            "text/plain": [
              "'/content/drive/My Drive/window_view/datasets/dataset.zip'"
            ]
          },
          "metadata": {
            "tags": []
          },
          "execution_count": 29
        }
      ]
    }
  ]
}